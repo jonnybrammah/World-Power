{
 "cells": [
  {
   "cell_type": "code",
   "execution_count": 1,
   "metadata": {},
   "outputs": [],
   "source": [
    "# Dependencies\n",
    "import pandas as pd\n",
    "import numpy as np\n",
    "import matplotlib.pyplot as plt\n",
    "from scipy.stats import linregress\n",
    "from scipy import stats"
   ]
  },
  {
   "cell_type": "code",
   "execution_count": 12,
   "metadata": {},
   "outputs": [
    {
     "data": {
      "text/html": [
       "<div>\n",
       "<style scoped>\n",
       "    .dataframe tbody tr th:only-of-type {\n",
       "        vertical-align: middle;\n",
       "    }\n",
       "\n",
       "    .dataframe tbody tr th {\n",
       "        vertical-align: top;\n",
       "    }\n",
       "\n",
       "    .dataframe thead th {\n",
       "        text-align: right;\n",
       "    }\n",
       "</style>\n",
       "<table border=\"1\" class=\"dataframe\">\n",
       "  <thead>\n",
       "    <tr style=\"text-align: right;\">\n",
       "      <th></th>\n",
       "      <th>Geography</th>\n",
       "      <th>county</th>\n",
       "      <th>state</th>\n",
       "      <th>total household</th>\n",
       "      <th>median income</th>\n",
       "    </tr>\n",
       "  </thead>\n",
       "  <tbody>\n",
       "    <tr>\n",
       "      <th>0</th>\n",
       "      <td>0500000US01003</td>\n",
       "      <td>Baldwin County</td>\n",
       "      <td>Alabama</td>\n",
       "      <td>79120</td>\n",
       "      <td>55342</td>\n",
       "    </tr>\n",
       "    <tr>\n",
       "      <th>1</th>\n",
       "      <td>0500000US01015</td>\n",
       "      <td>Calhoun County</td>\n",
       "      <td>Alabama</td>\n",
       "      <td>44507</td>\n",
       "      <td>46763</td>\n",
       "    </tr>\n",
       "    <tr>\n",
       "      <th>2</th>\n",
       "      <td>0500000US01043</td>\n",
       "      <td>Cullman County</td>\n",
       "      <td>Alabama</td>\n",
       "      <td>30740</td>\n",
       "      <td>45044</td>\n",
       "    </tr>\n",
       "    <tr>\n",
       "      <th>3</th>\n",
       "      <td>0500000US01049</td>\n",
       "      <td>DeKalb County</td>\n",
       "      <td>Alabama</td>\n",
       "      <td>25848</td>\n",
       "      <td>39373</td>\n",
       "    </tr>\n",
       "    <tr>\n",
       "      <th>4</th>\n",
       "      <td>0500000US01051</td>\n",
       "      <td>Elmore County</td>\n",
       "      <td>Alabama</td>\n",
       "      <td>29176</td>\n",
       "      <td>60558</td>\n",
       "    </tr>\n",
       "  </tbody>\n",
       "</table>\n",
       "</div>"
      ],
      "text/plain": [
       "        Geography          county     state  total household  median income\n",
       "0  0500000US01003  Baldwin County   Alabama            79120          55342\n",
       "1  0500000US01015  Calhoun County   Alabama            44507          46763\n",
       "2  0500000US01043  Cullman County   Alabama            30740          45044\n",
       "3  0500000US01049   DeKalb County   Alabama            25848          39373\n",
       "4  0500000US01051   Elmore County   Alabama            29176          60558"
      ]
     },
     "execution_count": 12,
     "metadata": {},
     "output_type": "execute_result"
    }
   ],
   "source": [
    "#Data taken from 2020 census but as a csv\n",
    "#Read the csv\n",
    "power_data = \"../Output/power_us_comp_df.csv\"\n",
    "power_data_df = pd.read_csv(power_data, encoding=\"ISO-8859-1\")\n",
    "income_data = \"../Resources/2017_median_income_by_county.csv\"\n",
    "income_data_df = pd.read_csv(income_data,encoding=\"ISO-8859-1\")\n",
    "income_data_df.head()"
   ]
  },
  {
   "cell_type": "code",
   "execution_count": 42,
   "metadata": {},
   "outputs": [
    {
     "data": {
      "text/html": [
       "<div>\n",
       "<style scoped>\n",
       "    .dataframe tbody tr th:only-of-type {\n",
       "        vertical-align: middle;\n",
       "    }\n",
       "\n",
       "    .dataframe tbody tr th {\n",
       "        vertical-align: top;\n",
       "    }\n",
       "\n",
       "    .dataframe thead th {\n",
       "        text-align: right;\n",
       "    }\n",
       "</style>\n",
       "<table border=\"1\" class=\"dataframe\">\n",
       "  <thead>\n",
       "    <tr style=\"text-align: right;\">\n",
       "      <th></th>\n",
       "      <th>county</th>\n",
       "      <th>state</th>\n",
       "      <th>total household</th>\n",
       "      <th>median income</th>\n",
       "    </tr>\n",
       "  </thead>\n",
       "  <tbody>\n",
       "    <tr>\n",
       "      <th>0</th>\n",
       "      <td>Baldwin County</td>\n",
       "      <td>Alabama</td>\n",
       "      <td>79120</td>\n",
       "      <td>55342</td>\n",
       "    </tr>\n",
       "    <tr>\n",
       "      <th>1</th>\n",
       "      <td>Calhoun County</td>\n",
       "      <td>Alabama</td>\n",
       "      <td>44507</td>\n",
       "      <td>46763</td>\n",
       "    </tr>\n",
       "    <tr>\n",
       "      <th>2</th>\n",
       "      <td>Cullman County</td>\n",
       "      <td>Alabama</td>\n",
       "      <td>30740</td>\n",
       "      <td>45044</td>\n",
       "    </tr>\n",
       "    <tr>\n",
       "      <th>3</th>\n",
       "      <td>DeKalb County</td>\n",
       "      <td>Alabama</td>\n",
       "      <td>25848</td>\n",
       "      <td>39373</td>\n",
       "    </tr>\n",
       "    <tr>\n",
       "      <th>4</th>\n",
       "      <td>Elmore County</td>\n",
       "      <td>Alabama</td>\n",
       "      <td>29176</td>\n",
       "      <td>60558</td>\n",
       "    </tr>\n",
       "  </tbody>\n",
       "</table>\n",
       "</div>"
      ],
      "text/plain": [
       "           county     state  total household  median income\n",
       "0  Baldwin County   Alabama            79120          55342\n",
       "1  Calhoun County   Alabama            44507          46763\n",
       "2  Cullman County   Alabama            30740          45044\n",
       "3   DeKalb County   Alabama            25848          39373\n",
       "4   Elmore County   Alabama            29176          60558"
      ]
     },
     "execution_count": 42,
     "metadata": {},
     "output_type": "execute_result"
    }
   ],
   "source": [
    "#Read the CSV for all the state powerplants\n",
    "power_data_df = power_data_df[['primary_fuel','state','county']]\n",
    "#power_data_df.head()\n",
    "income_data_df = income_data_df[['county','state','total household','median income']]\n",
    "income_data_df.head()"
   ]
  },
  {
   "cell_type": "code",
   "execution_count": 40,
   "metadata": {},
   "outputs": [
    {
     "data": {
      "text/html": [
       "<div>\n",
       "<style scoped>\n",
       "    .dataframe tbody tr th:only-of-type {\n",
       "        vertical-align: middle;\n",
       "    }\n",
       "\n",
       "    .dataframe tbody tr th {\n",
       "        vertical-align: top;\n",
       "    }\n",
       "\n",
       "    .dataframe thead th {\n",
       "        text-align: right;\n",
       "    }\n",
       "</style>\n",
       "<table border=\"1\" class=\"dataframe\">\n",
       "  <thead>\n",
       "    <tr style=\"text-align: right;\">\n",
       "      <th></th>\n",
       "      <th>primary_fuel</th>\n",
       "      <th>state</th>\n",
       "      <th>county</th>\n",
       "    </tr>\n",
       "  </thead>\n",
       "  <tbody>\n",
       "    <tr>\n",
       "      <th>0</th>\n",
       "      <td>Solar</td>\n",
       "      <td>New York</td>\n",
       "      <td>Rockland County</td>\n",
       "    </tr>\n",
       "    <tr>\n",
       "      <th>1</th>\n",
       "      <td>Solar</td>\n",
       "      <td>North Carolina</td>\n",
       "      <td>Lee County</td>\n",
       "    </tr>\n",
       "    <tr>\n",
       "      <th>2</th>\n",
       "      <td>Solar</td>\n",
       "      <td>North Carolina</td>\n",
       "      <td>Yadkin County</td>\n",
       "    </tr>\n",
       "    <tr>\n",
       "      <th>3</th>\n",
       "      <td>Solar</td>\n",
       "      <td>New Jersey</td>\n",
       "      <td>Mercer County</td>\n",
       "    </tr>\n",
       "    <tr>\n",
       "      <th>4</th>\n",
       "      <td>Solar</td>\n",
       "      <td>Massachusetts</td>\n",
       "      <td>Norfolk County</td>\n",
       "    </tr>\n",
       "  </tbody>\n",
       "</table>\n",
       "</div>"
      ],
      "text/plain": [
       "  primary_fuel           state           county\n",
       "0        Solar        New York  Rockland County\n",
       "1        Solar  North Carolina       Lee County\n",
       "2        Solar  North Carolina    Yadkin County\n",
       "3        Solar      New Jersey    Mercer County\n",
       "4        Solar   Massachusetts   Norfolk County"
      ]
     },
     "execution_count": 40,
     "metadata": {},
     "output_type": "execute_result"
    }
   ],
   "source": [
    "power_data_df.dropna(axis=0,how='any')\n",
    "power_data_df.head()"
   ]
  },
  {
   "cell_type": "code",
   "execution_count": 41,
   "metadata": {},
   "outputs": [
    {
     "data": {
      "text/html": [
       "<div>\n",
       "<style scoped>\n",
       "    .dataframe tbody tr th:only-of-type {\n",
       "        vertical-align: middle;\n",
       "    }\n",
       "\n",
       "    .dataframe tbody tr th {\n",
       "        vertical-align: top;\n",
       "    }\n",
       "\n",
       "    .dataframe thead th {\n",
       "        text-align: right;\n",
       "    }\n",
       "</style>\n",
       "<table border=\"1\" class=\"dataframe\">\n",
       "  <thead>\n",
       "    <tr style=\"text-align: right;\">\n",
       "      <th></th>\n",
       "      <th>primary_fuel</th>\n",
       "      <th>state</th>\n",
       "      <th>county</th>\n",
       "    </tr>\n",
       "  </thead>\n",
       "  <tbody>\n",
       "    <tr>\n",
       "      <th>0</th>\n",
       "      <td>Solar</td>\n",
       "      <td>New York</td>\n",
       "      <td>Rockland County</td>\n",
       "    </tr>\n",
       "    <tr>\n",
       "      <th>1</th>\n",
       "      <td>Solar</td>\n",
       "      <td>North Carolina</td>\n",
       "      <td>Lee County</td>\n",
       "    </tr>\n",
       "    <tr>\n",
       "      <th>2</th>\n",
       "      <td>Solar</td>\n",
       "      <td>North Carolina</td>\n",
       "      <td>Yadkin County</td>\n",
       "    </tr>\n",
       "    <tr>\n",
       "      <th>3</th>\n",
       "      <td>Solar</td>\n",
       "      <td>New Jersey</td>\n",
       "      <td>Mercer County</td>\n",
       "    </tr>\n",
       "    <tr>\n",
       "      <th>4</th>\n",
       "      <td>Solar</td>\n",
       "      <td>Massachusetts</td>\n",
       "      <td>Norfolk County</td>\n",
       "    </tr>\n",
       "    <tr>\n",
       "      <th>...</th>\n",
       "      <td>...</td>\n",
       "      <td>...</td>\n",
       "      <td>...</td>\n",
       "    </tr>\n",
       "    <tr>\n",
       "      <th>9798</th>\n",
       "      <td>Hydro</td>\n",
       "      <td>Montana</td>\n",
       "      <td>Big Horn County</td>\n",
       "    </tr>\n",
       "    <tr>\n",
       "      <th>9799</th>\n",
       "      <td>Hydro</td>\n",
       "      <td>Washington</td>\n",
       "      <td>Thurston County</td>\n",
       "    </tr>\n",
       "    <tr>\n",
       "      <th>9803</th>\n",
       "      <td>Hydro</td>\n",
       "      <td>Georgia</td>\n",
       "      <td>Stephens County</td>\n",
       "    </tr>\n",
       "    <tr>\n",
       "      <th>9812</th>\n",
       "      <td>Hydro</td>\n",
       "      <td>Washington</td>\n",
       "      <td>Snohomish County</td>\n",
       "    </tr>\n",
       "    <tr>\n",
       "      <th>9813</th>\n",
       "      <td>Gas</td>\n",
       "      <td>California</td>\n",
       "      <td>Sutter County</td>\n",
       "    </tr>\n",
       "  </tbody>\n",
       "</table>\n",
       "<p>4333 rows × 3 columns</p>\n",
       "</div>"
      ],
      "text/plain": [
       "     primary_fuel           state            county\n",
       "0           Solar        New York   Rockland County\n",
       "1           Solar  North Carolina        Lee County\n",
       "2           Solar  North Carolina     Yadkin County\n",
       "3           Solar      New Jersey     Mercer County\n",
       "4           Solar   Massachusetts    Norfolk County\n",
       "...           ...             ...               ...\n",
       "9798        Hydro         Montana   Big Horn County\n",
       "9799        Hydro      Washington   Thurston County\n",
       "9803        Hydro         Georgia   Stephens County\n",
       "9812        Hydro      Washington  Snohomish County\n",
       "9813          Gas      California     Sutter County\n",
       "\n",
       "[4333 rows x 3 columns]"
      ]
     },
     "execution_count": 41,
     "metadata": {},
     "output_type": "execute_result"
    }
   ],
   "source": [
    "filtered_power_data_df = power_data_df.groupby(['county'])\n",
    "filtered_power_data_df.head()"
   ]
  },
  {
   "cell_type": "code",
   "execution_count": 43,
   "metadata": {},
   "outputs": [
    {
     "data": {
      "text/plain": [
       "Index(['primary_fuel', 'state', 'county', 'median income'], dtype='object')"
      ]
     },
     "execution_count": 43,
     "metadata": {},
     "output_type": "execute_result"
    }
   ],
   "source": [
    "power_data_df['median income'] = ''\n",
    "power_data_df.columns"
   ]
  },
  {
   "cell_type": "code",
   "execution_count": 46,
   "metadata": {
    "scrolled": true
   },
   "outputs": [
    {
     "data": {
      "text/html": [
       "<div>\n",
       "<style scoped>\n",
       "    .dataframe tbody tr th:only-of-type {\n",
       "        vertical-align: middle;\n",
       "    }\n",
       "\n",
       "    .dataframe tbody tr th {\n",
       "        vertical-align: top;\n",
       "    }\n",
       "\n",
       "    .dataframe thead th {\n",
       "        text-align: right;\n",
       "    }\n",
       "</style>\n",
       "<table border=\"1\" class=\"dataframe\">\n",
       "  <thead>\n",
       "    <tr style=\"text-align: right;\">\n",
       "      <th></th>\n",
       "      <th>primary_fuel</th>\n",
       "      <th>state</th>\n",
       "      <th>county</th>\n",
       "      <th>median income_x</th>\n",
       "      <th>total household</th>\n",
       "      <th>median income_y</th>\n",
       "    </tr>\n",
       "  </thead>\n",
       "  <tbody>\n",
       "    <tr>\n",
       "      <th>0</th>\n",
       "      <td>Solar</td>\n",
       "      <td>New York</td>\n",
       "      <td>Rockland County</td>\n",
       "      <td></td>\n",
       "      <td>NaN</td>\n",
       "      <td>NaN</td>\n",
       "    </tr>\n",
       "    <tr>\n",
       "      <th>1</th>\n",
       "      <td>Solar</td>\n",
       "      <td>North Carolina</td>\n",
       "      <td>Lee County</td>\n",
       "      <td></td>\n",
       "      <td>NaN</td>\n",
       "      <td>NaN</td>\n",
       "    </tr>\n",
       "    <tr>\n",
       "      <th>2</th>\n",
       "      <td>Solar</td>\n",
       "      <td>North Carolina</td>\n",
       "      <td>Yadkin County</td>\n",
       "      <td></td>\n",
       "      <td>NaN</td>\n",
       "      <td>NaN</td>\n",
       "    </tr>\n",
       "    <tr>\n",
       "      <th>3</th>\n",
       "      <td>Solar</td>\n",
       "      <td>New Jersey</td>\n",
       "      <td>Mercer County</td>\n",
       "      <td></td>\n",
       "      <td>NaN</td>\n",
       "      <td>NaN</td>\n",
       "    </tr>\n",
       "    <tr>\n",
       "      <th>4</th>\n",
       "      <td>Solar</td>\n",
       "      <td>Massachusetts</td>\n",
       "      <td>Norfolk County</td>\n",
       "      <td></td>\n",
       "      <td>NaN</td>\n",
       "      <td>NaN</td>\n",
       "    </tr>\n",
       "  </tbody>\n",
       "</table>\n",
       "</div>"
      ],
      "text/plain": [
       "  primary_fuel           state           county median income_x  \\\n",
       "0        Solar        New York  Rockland County                   \n",
       "1        Solar  North Carolina       Lee County                   \n",
       "2        Solar  North Carolina    Yadkin County                   \n",
       "3        Solar      New Jersey    Mercer County                   \n",
       "4        Solar   Massachusetts   Norfolk County                   \n",
       "\n",
       "   total household  median income_y  \n",
       "0              NaN              NaN  \n",
       "1              NaN              NaN  \n",
       "2              NaN              NaN  \n",
       "3              NaN              NaN  \n",
       "4              NaN              NaN  "
      ]
     },
     "execution_count": 46,
     "metadata": {},
     "output_type": "execute_result"
    }
   ],
   "source": [
    "merged_df = power_data_df.merge(income_data_df, on=['county', 'state'])\n",
    "#filtered_power_data_df.merge(income_data_df.to_frame(), left_on='county', right_index=True)\n",
    "merge_df.head()"
   ]
  },
  {
   "cell_type": "code",
   "execution_count": null,
   "metadata": {},
   "outputs": [],
   "source": [
    "#Sort the CO2 data to only include CO2 generated by electrical power generation\n",
    "state_CO2_data_filtered_df = state_CO2_data_df.loc[state_CO2_data_df[\"Sector Name\"] == \"Electric Power carbon dioxide emissions\"].reset_index(drop = True)\n",
    "state_CO2_data_filtered_df = state_CO2_data_filtered_df[[\"State\", \"Year\", \"CO2 Emissions (Million Metric Tons)\"]]\n",
    "state_CO2_data_filtered_df"
   ]
  },
  {
   "cell_type": "code",
   "execution_count": null,
   "metadata": {},
   "outputs": [],
   "source": [
    "#Add a column to determine the percentage of electricity generated from high-carbon fossil fuels (Percentage High-Carbon)\n",
    "state_CO2_data_2020_df = state_CO2_data_filtered_df.loc[state_CO2_data_filtered_df[\"Year\"] == 2020].reset_index(drop=True)\n",
    "state_CO2_data_2020_df[\"Percentage High-Carbon\"] = \"\""
   ]
  },
  {
   "cell_type": "code",
   "execution_count": null,
   "metadata": {},
   "outputs": [],
   "source": [
    "#Only select 2020 - the same year as census population data\n",
    "state_generation_data_2020_df = state_generation_data_df.loc[state_generation_data_df[\"Year\"] == 2020].reset_index(drop=True)"
   ]
  },
  {
   "cell_type": "code",
   "execution_count": null,
   "metadata": {},
   "outputs": [],
   "source": [
    "#Generate a list of the states\n",
    "states = state_generation_data_2020_df[\"State\"].unique()"
   ]
  },
  {
   "cell_type": "code",
   "execution_count": null,
   "metadata": {},
   "outputs": [],
   "source": [
    "#Create two empty lists - one to store the total generation capacity of each state\n",
    "# and the other to share the generation capacity of non-renewable sources only for each state\n",
    "total_capacity = []\n",
    "nonrenewable_capacity = []"
   ]
  },
  {
   "cell_type": "code",
   "execution_count": null,
   "metadata": {},
   "outputs": [],
   "source": [
    "# Run through each state\n",
    "\n",
    "for state in states:\n",
    "    #Reset a counter which will add up the totals by state each time\n",
    "    nonrenewables = 0\n",
    "    total = 0\n",
    "    #For each row in the electricity generation dataframe:\n",
    "    for index, row in state_generation_data_2020_df.iterrows():\n",
    "        #Select rows only that match the state we're looking at\n",
    "        if state_generation_data_2020_df.loc[index, \"State\"] == state:\n",
    "            #Select only the fossil fuel sources\n",
    "            if ((state_generation_data_2020_df.loc[index, \"Fuel Type\"] == \"Coal\") | \n",
    "                (state_generation_data_2020_df.loc[index, \"Fuel Type\"] == \"Natural Gas\") |\n",
    "                (state_generation_data_2020_df.loc[index, \"Fuel Type\"] == \"Petroleum\")):\n",
    "                    #Add the totals of the non-renewables capacity together for each state \n",
    "                    nonrenewables = nonrenewables + state_generation_data_2020_df.loc[index, \"Capacity (MWh)\"]\n",
    "            #And calculate the total capacity for each state\n",
    "            total = total + state_generation_data_2020_df.loc[index, \"Capacity (MWh)\"]\n",
    "            \n",
    "    #Add both of these numbers to the empty list created earlier\n",
    "    nonrenewable_capacity.append(nonrenewables)\n",
    "    total_capacity.append(total)\n",
    "\n",
    "\n"
   ]
  },
  {
   "cell_type": "code",
   "execution_count": null,
   "metadata": {},
   "outputs": [],
   "source": [
    "nonrenewables_percent = []\n",
    "for i in range (len(total_capacity)):\n",
    "    #Calculate the percentage of electricity generated by non-renewable sources for each state\n",
    "    percentnonrenewable = round(((nonrenewable_capacity[i])/(total_capacity[i]))*100,2)\n",
    "    nonrenewables_percent.append(percentnonrenewable)\n",
    "    \n",
    "nonrenewables_percent"
   ]
  },
  {
   "cell_type": "code",
   "execution_count": null,
   "metadata": {},
   "outputs": [],
   "source": [
    "#Input that data to the state CO2 dataframe\n",
    "state_CO2_data_2020_df[\"Percentage High-Carbon\"] = nonrenewables_percent\n",
    "state_CO2_data_2020_df"
   ]
  },
  {
   "cell_type": "code",
   "execution_count": null,
   "metadata": {},
   "outputs": [],
   "source": [
    "#Add in a column to determine the CO2 emissions per person\n",
    "state_CO2_data_2020_df.insert(3, \"CO2 Emissions per capita (Tons per person)\", \"\")"
   ]
  },
  {
   "cell_type": "code",
   "execution_count": null,
   "metadata": {},
   "outputs": [],
   "source": [
    "# Calculate the CO2 Emissions per capita (in tons per person)\n",
    "state_CO2_data_2020_df[\"CO2 Emissions per capita (Tons per person)\"] = (state_CO2_data_2020_df[\"CO2 Emissions (Million Metric Tons)\"]/state_pop_data_df[\"Population\"])*(1000000)\n",
    "state_CO2_data_2020_df"
   ]
  },
  {
   "cell_type": "code",
   "execution_count": null,
   "metadata": {},
   "outputs": [],
   "source": [
    "#Plot the percentage of electricity generated by fossil fuels for each state\n",
    "#Against the CO2 emissions per capita in that state\n",
    "\n",
    "x_values = state_CO2_data_2020_df[\"Percentage High-Carbon\"]\n",
    "y_values = state_CO2_data_2020_df[\"CO2 Emissions per capita (Tons per person)\"]\n",
    "\n",
    "(slope, intercept, rvalue, pvalue, stderr) = linregress(x_values, y_values)\n",
    "regress_values = x_values * slope + intercept\n",
    "line_eq = f\"y = {str(round(slope,2))}x + {str(round(intercept,2))}\"\n",
    "rvalue_string = f\"r-value = {str(round(rvalue,2))}\"\n",
    "\n",
    "plt.scatter(x_values, y_values)\n",
    "plt.plot(x_values,regress_values)\n",
    "plt.annotate(line_eq,(15,55),fontsize=12.5,color=\"red\")\n",
    "plt.annotate(rvalue_string, (15, 50), fontsize = 12.5, color = \"red\")\n",
    "plt.xlabel(\"Percentage of Electricity generated from Fossil Fuel sources\")\n",
    "plt.ylabel(\"CO2 Emissions per capita (Tons per person) \\n from Electricity generation\")\n",
    "plt.title(\"State CO2 Emissions per capita vs \\n Percentage of electricity generated from fossil fuel sources \\n (Including Outliers)\")\n",
    "print(f\"The r-value for this is {rvalue}\")\n",
    "\n",
    "plt.savefig(\"../Output/Images/State_CO2_Emissions_against_%fossilfuels(Inc_Outliers).png\")\n",
    "plt.show\n"
   ]
  },
  {
   "cell_type": "code",
   "execution_count": null,
   "metadata": {},
   "outputs": [],
   "source": [
    "#Determing outliers\n",
    "quartiles = state_CO2_data_2020_df[\"CO2 Emissions per capita (Tons per person)\"].quantile([.25, .5, .75])\n",
    "lowerq = quartiles[0.25]\n",
    "upperq = quartiles[0.75]\n",
    "iqr = upperq-lowerq\n",
    "lower_bound = lowerq - (1.5*iqr)\n",
    "upper_bound = upperq + (1.5*iqr)\n",
    "outliers_df = state_CO2_data_2020_df.loc[(state_CO2_data_2020_df[\"CO2 Emissions per capita (Tons per person)\"] < lower_bound) | (state_CO2_data_2020_df[\"CO2 Emissions per capita (Tons per person)\"] > upper_bound)]\n",
    "print(outliers_df[\"State\"])\n",
    "print(f\"The upper bound is {upper_bound}\")"
   ]
  },
  {
   "cell_type": "code",
   "execution_count": null,
   "metadata": {},
   "outputs": [],
   "source": [
    "#Removing the Outliers\n",
    "state_CO2_data_2020_without_outliers = state_CO2_data_2020_df.loc[(state_CO2_data_2020_df[\"CO2 Emissions per capita (Tons per person)\"] < upper_bound) & (state_CO2_data_2020_df[\"CO2 Emissions per capita (Tons per person)\"] > 0)]\n",
    "state_CO2_data_2020_without_outliers"
   ]
  },
  {
   "cell_type": "code",
   "execution_count": null,
   "metadata": {},
   "outputs": [],
   "source": [
    "x_values_no_outs = state_CO2_data_2020_without_outliers[\"Percentage High-Carbon\"]\n",
    "y_values_no_outs = state_CO2_data_2020_without_outliers[\"CO2 Emissions per capita (Tons per person)\"]\n",
    "\n",
    "(slope, intercept, rvalue, pvalue, stderr) = linregress(x_values_no_outs, y_values_no_outs)\n",
    "regress_values_no_outs = x_values_no_outs * slope + intercept\n",
    "\n",
    "line_eq = f\"y = {str(round(slope,2))}x + {str(round(intercept,2))}\"\n",
    "rvalue_string = f\"r-value = {str(round(rvalue,2))}\"\n",
    "\n",
    "plt.scatter(x_values_no_outs, y_values_no_outs)\n",
    "plt.plot(x_values_no_outs,regress_values_no_outs)\n",
    "plt.xlabel(\"Percentage of Electricity generated from High-Carbon sources\")\n",
    "plt.ylabel(\"CO2 Emissions per capita (Tons per person) \\n from Electricity generation\")\n",
    "\n",
    "plt.title(\"State CO2 Emissions per capita vs \\n Percentage of electricity generated from fossil fuel sources \\n (Excluding Outliers)\")\n",
    "\n",
    "plt.annotate(line_eq,(15,10.75),fontsize=12.5,color=\"red\")\n",
    "plt.annotate(rvalue_string, (15, 9.75), fontsize = 12.5, color = \"red\")\n",
    "\n",
    "plt.savefig(\"../Output/Images/State_CO2_Emissions_against_%fossilfuels(Exc_Outliers).png\")\n",
    "\n",
    "plt.show\n",
    "print(f\"The r-value for this is {rvalue}\")"
   ]
  }
 ],
 "metadata": {
  "kernelspec": {
   "display_name": "Python 3 (ipykernel)",
   "language": "python",
   "name": "python3"
  },
  "language_info": {
   "codemirror_mode": {
    "name": "ipython",
    "version": 3
   },
   "file_extension": ".py",
   "mimetype": "text/x-python",
   "name": "python",
   "nbconvert_exporter": "python",
   "pygments_lexer": "ipython3",
   "version": "3.10.9"
  },
  "varInspector": {
   "cols": {
    "lenName": 16,
    "lenType": 16,
    "lenVar": 40
   },
   "kernels_config": {
    "python": {
     "delete_cmd_postfix": "",
     "delete_cmd_prefix": "del ",
     "library": "var_list.py",
     "varRefreshCmd": "print(var_dic_list())"
    },
    "r": {
     "delete_cmd_postfix": ") ",
     "delete_cmd_prefix": "rm(",
     "library": "var_list.r",
     "varRefreshCmd": "cat(var_dic_list()) "
    }
   },
   "types_to_exclude": [
    "module",
    "function",
    "builtin_function_or_method",
    "instance",
    "_Feature"
   ],
   "window_display": false
  }
 },
 "nbformat": 4,
 "nbformat_minor": 2
}
